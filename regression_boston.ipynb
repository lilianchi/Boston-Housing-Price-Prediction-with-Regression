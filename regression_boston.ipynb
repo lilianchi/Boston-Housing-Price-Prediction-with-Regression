{
 "cells": [
  {
   "cell_type": "markdown",
   "metadata": {
    "colab_type": "text",
    "id": "EIdT9iu_Z4Rb"
   },
   "source": [
    "# Linear regression: Housing Price Prediction"
   ]
  },
  {
   "cell_type": "markdown",
   "metadata": {
    "colab_type": "text",
    "id": "AHp3M9ZmrIxj"
   },
   "source": [
    "This notebook uses the classic [Boston Housing](http://lib.stat.cmu.edu/datasets/boston) Dataset and builds a model to predict the housing price in the suburban area of Boston."
   ]
  },
  {
   "cell_type": "code",
   "execution_count": 1,
   "metadata": {
    "colab": {},
    "colab_type": "code",
    "id": "1rRo8oNqZ-Rj"
   },
   "outputs": [],
   "source": [
    "import matplotlib.pyplot as plt\n",
    "import pandas as pd\n",
    "\n",
    "import tensorflow as tf\n",
    "\n",
    "from tensorflow import keras #cleaner and shorter weight\n",
    "from tensorflow.keras import layers #e.g. hidden/ output...\n",
    "from tensorflow.keras.datasets import boston_housing #data\n",
    "import time"
   ]
  },
  {
   "cell_type": "markdown",
   "metadata": {
    "colab_type": "text",
    "id": "F_72b0LCNbjx"
   },
   "source": [
    "## The Boston Housing Dataset\n",
    "\n",
    "The Boston dataset contains information collected by the U.S Census Service concerning housing in the area of Boston Mass. The dataset is small in size with only 506 cases. A full description of all variables can be found [here](http://lib.stat.cmu.edu/datasets/boston)."
   ]
  },
  {
   "cell_type": "markdown",
   "metadata": {
    "colab_type": "text",
    "id": "gFh9ne3FZ-On"
   },
   "source": [
    "### Get the data\n",
    "First download the dataset. Boston dataset is a build-in dataset in Keras. Notice that this build-in dataset has already been cleaned and preprocessed (normalized) by keras."
   ]
  },
  {
   "cell_type": "code",
   "execution_count": 3,
   "metadata": {
    "colab": {},
    "colab_type": "code",
    "id": "p9kxxgzvzlyz",
    "scrolled": true,
    "tags": []
   },
   "outputs": [],
   "source": [
    "from tensorflow.keras.datasets import boston_housing\n",
    "(train_data, train_targets), (test_data, test_targets) = boston_housing.load_data()\n",
    "\n",
    "#dataset, which is already separated in train and test data.\n",
    "#The only parameter (path) is basically where to store the downloaded dataset."
   ]
  },
  {
   "cell_type": "code",
   "execution_count": 17,
   "metadata": {
    "colab": {},
    "colab_type": "code",
    "id": "CiX2FI4gZtTt"
   },
   "outputs": [
    {
     "name": "stdout",
     "output_type": "stream",
     "text": [
      "Training data : (404, 13)\n",
      "Training target : (404,)\n",
      "Test data : (102, 13)\n",
      "Test target : (102,)\n"
     ]
    }
   ],
   "source": [
    "#check training and test size\n",
    "print('Training data : {}'.format(train_data.shape))\n",
    "print('Training target : {}'.format(train_targets.shape))\n",
    "print('Test data : {}'.format(test_data.shape))\n",
    "print('Test target : {}'.format(test_targets.shape))\n",
    "\n",
    "#so can know the regression model: y = g(β0 + β1x1 + ......+ β13x13) : 13 inputs  --> 找β > 1 output"
   ]
  },
  {
   "cell_type": "markdown",
   "metadata": {
    "colab_type": "text",
    "id": "SmjdzxKzEu1-"
   },
   "source": [
    "## The model"
   ]
  },
  {
   "cell_type": "markdown",
   "metadata": {
    "colab_type": "text",
    "id": "6SWtkIjhrZwa"
   },
   "source": [
    "### Build the model\n",
    "\n",
    "Let's build our model. Here, we'll use a `Sequential` model with an output layer that returns a single, continuous value. The model building steps are wrapped in a function, `build_model`, since we'll create a second model, later on."
   ]
  },
  {
   "cell_type": "code",
   "execution_count": 5,
   "metadata": {},
   "outputs": [],
   "source": [
    "# methoud1: directly\n",
    "# Adam\n",
    "model = keras.Sequential([layers.Dense(1, input_shape=[train_data.shape[1]])])\n",
    "#dense: fully connected, CNN就不是dense\n",
    "#1是因為output只有1個\n",
    "optimizer = tf.keras.optimizers.Adam(0.001)\n",
    "#use Adam optimizer here, 0.001 is learning_rate, is default value\n",
    "#https://keras.io/api/optimizers/adam/\n",
    "model.compile(loss='mse',\n",
    "              optimizer=optimizer,\n",
    "              metrics=['mse'])\n",
    "#loss function: tell it is regression problem by MSE, metrics is model evaluation performance"
   ]
  },
  {
   "cell_type": "code",
   "execution_count": 6,
   "metadata": {},
   "outputs": [],
   "source": [
    "#SGD\n",
    "model_1 = keras.Sequential([layers.Dense(1, input_shape=[train_data.shape[1]])])\n",
    "\n",
    "optimizer = tf.keras.optimizers.SGD(0.0000004)\n",
    "\n",
    "model_1.compile(loss='mse',\n",
    "              optimizer=optimizer,\n",
    "              metrics=['mse'])"
   ]
  },
  {
   "cell_type": "markdown",
   "metadata": {},
   "source": [
    "### Build the model\n",
    "\n",
    "We can also wrap the model in a function, `build_model`, if we want to create a second model, later on."
   ]
  },
  {
   "cell_type": "code",
   "execution_count": 6,
   "metadata": {
    "colab": {},
    "colab_type": "code",
    "id": "c26juK7ZG8j-",
    "tags": []
   },
   "outputs": [],
   "source": [
    "# methoud2: writing function for future use\n",
    "# Adam\n",
    "def build_model():\n",
    "    model = keras.Sequential([layers.Dense(1, input_shape=[train_data.shape[1]])])\n",
    "    optimizer = tf.keras.optimizers.Adam(0.001)\n",
    "    model.compile(loss='mse',\n",
    "                  optimizer=optimizer,\n",
    "                  metrics=['mse'])\n",
    "    return model"
   ]
  },
  {
   "cell_type": "markdown",
   "metadata": {
    "colab_type": "text",
    "id": "Sj49Og4YGULr"
   },
   "source": [
    "### Inspect the model\n",
    "\n",
    "Use the `.summary` method to print a simple description of the model"
   ]
  },
  {
   "cell_type": "code",
   "execution_count": 7,
   "metadata": {
    "colab": {},
    "colab_type": "code",
    "id": "ReAD0n6MsFK-"
   },
   "outputs": [
    {
     "name": "stdout",
     "output_type": "stream",
     "text": [
      "Model: \"sequential\"\n",
      "_________________________________________________________________\n",
      " Layer (type)                Output Shape              Param #   \n",
      "=================================================================\n",
      " dense (Dense)               (None, 1)                 14        \n",
      "                                                                 \n",
      "=================================================================\n",
      "Total params: 14\n",
      "Trainable params: 14\n",
      "Non-trainable params: 0\n",
      "_________________________________________________________________\n"
     ]
    }
   ],
   "source": [
    "model.summary()\n",
    "#1 output layer\n",
    "#number of parameters: 13 + 1(bias)"
   ]
  },
  {
   "cell_type": "code",
   "execution_count": 8,
   "metadata": {},
   "outputs": [
    {
     "name": "stdout",
     "output_type": "stream",
     "text": [
      "Model: \"sequential_1\"\n",
      "_________________________________________________________________\n",
      " Layer (type)                Output Shape              Param #   \n",
      "=================================================================\n",
      " dense_1 (Dense)             (None, 1)                 14        \n",
      "                                                                 \n",
      "=================================================================\n",
      "Total params: 14\n",
      "Trainable params: 14\n",
      "Non-trainable params: 0\n",
      "_________________________________________________________________\n"
     ]
    }
   ],
   "source": [
    "model_1.summary()"
   ]
  },
  {
   "cell_type": "markdown",
   "metadata": {
    "colab_type": "text",
    "id": "0-qWCsh6DlyH"
   },
   "source": [
    "### Train the model\n",
    "\n",
    "Train the model for 2000 epochs, and record the training accuracy in the `history` object."
   ]
  },
  {
   "cell_type": "code",
   "execution_count": 9,
   "metadata": {
    "colab": {},
    "colab_type": "code",
    "id": "sD7qHCmNIOY0"
   },
   "outputs": [
    {
     "name": "stdout",
     "output_type": "stream",
     "text": [
      "| Epoch    0 | training time   0.25s | train loss 82370.20 |\n",
      "| Epoch  100 | training time   0.77s | train loss 421.18 |\n",
      "| Epoch  200 | training time   1.30s | train loss 215.63 |\n",
      "| Epoch  300 | training time   1.81s | train loss 118.19 |\n",
      "| Epoch  400 | training time   2.31s | train loss  63.94 |\n",
      "| Epoch  500 | training time   2.83s | train loss  47.59 |\n",
      "| Epoch  600 | training time   3.34s | train loss  42.12 |\n",
      "| Epoch  700 | training time   3.86s | train loss  38.16 |\n",
      "| Epoch  800 | training time   4.38s | train loss  35.13 |\n",
      "| Epoch  900 | training time   4.89s | train loss  33.12 |\n",
      "| Epoch 1000 | training time   5.39s | train loss  31.52 |\n",
      "| Epoch 1100 | training time   5.92s | train loss  30.79 |\n",
      "| Epoch 1200 | training time   6.47s | train loss  28.74 |\n",
      "| Epoch 1300 | training time   6.97s | train loss  27.92 |\n",
      "| Epoch 1400 | training time   7.53s | train loss  27.26 |\n",
      "| Epoch 1500 | training time   8.05s | train loss  27.05 |\n",
      "| Epoch 1600 | training time   8.56s | train loss  26.36 |\n",
      "| Epoch 1700 | training time   9.08s | train loss  26.00 |\n",
      "| Epoch 1800 | training time   9.59s | train loss  26.32 |\n",
      "| Epoch 1900 | training time  10.12s | train loss  25.33 |\n",
      "| Epoch 2000 | training time  10.64s | train loss  25.58 |\n",
      "| Epoch 2100 | training time  11.16s | train loss  25.21 |\n",
      "| Epoch 2200 | training time  11.67s | train loss  25.08 |\n",
      "| Epoch 2300 | training time  12.19s | train loss  25.22 |\n",
      "| Epoch 2400 | training time  12.70s | train loss  24.89 |\n",
      "| Epoch 2500 | training time  13.22s | train loss  26.61 |\n",
      "| Epoch 2600 | training time  13.75s | train loss  24.69 |\n",
      "| Epoch 2700 | training time  14.28s | train loss  24.79 |\n",
      "| Epoch 2800 | training time  14.80s | train loss  24.67 |\n",
      "| Epoch 2900 | training time  15.31s | train loss  24.81 |\n",
      "| Epoch 3000 | training time  15.81s | train loss  24.94 |\n"
     ]
    }
   ],
   "source": [
    "# Display training progress by printing a single dot for each completed epoch\n",
    "# Adam\n",
    "class PrintLoss(keras.callbacks.Callback):\n",
    "    def on_epoch_begin(self, epoch, logs):\n",
    "        if epoch == 0: self.time = time.monotonic()\n",
    "    def on_epoch_end(self, epoch, logs):\n",
    "        if epoch % 100 == 0:\n",
    "            # calculate training time\n",
    "            t = time.monotonic() - self.time\n",
    "            # if validation set is included, its loss is recorded in logs['val_loss']\n",
    "            print('| Epoch {:4} | training time {:6.2f}s | train loss {:6.2f} |'\n",
    "                  .format(epoch, t, logs['loss']))\n",
    "EPOCHS = 3001 #k\n",
    "#only with 2900, so we set = 3001\n",
    "#e.g. sample size = n, total: k*n iterations\n",
    "#try and see when will converge\n",
    "\n",
    "history = model.fit(train_data, train_targets,\n",
    "                    epochs=EPOCHS, verbose=0,\n",
    "                    callbacks=[PrintLoss()])\n",
    "#if batch_size=500，就不會converge (train loss) / if = 404 --> full data set\n",
    "#SGD is very sensitive (when chooseing different stepsize)"
   ]
  },
  {
   "cell_type": "code",
   "execution_count": 10,
   "metadata": {},
   "outputs": [
    {
     "name": "stdout",
     "output_type": "stream",
     "text": [
      "| Epoch    0 | training time   0.14s | train loss 736.47 |\n",
      "| Epoch  100 | training time   0.62s | train loss 121.72 |\n",
      "| Epoch  200 | training time   1.09s | train loss 104.88 |\n",
      "| Epoch  300 | training time   1.58s | train loss  94.91 |\n",
      "| Epoch  400 | training time   2.05s | train loss  88.86 |\n",
      "| Epoch  500 | training time   2.59s | train loss  84.54 |\n",
      "| Epoch  600 | training time   3.12s | train loss  81.12 |\n",
      "| Epoch  700 | training time   3.62s | train loss  78.16 |\n",
      "| Epoch  800 | training time   4.09s | train loss  75.74 |\n",
      "| Epoch  900 | training time   4.55s | train loss  74.03 |\n",
      "| Epoch 1000 | training time   5.02s | train loss  72.21 |\n",
      "| Epoch 1100 | training time   5.48s | train loss  70.41 |\n",
      "| Epoch 1200 | training time   5.95s | train loss  68.22 |\n",
      "| Epoch 1300 | training time   6.41s | train loss  66.92 |\n",
      "| Epoch 1400 | training time   6.88s | train loss  66.24 |\n",
      "| Epoch 1500 | training time   7.36s | train loss  64.14 |\n",
      "| Epoch 1600 | training time   7.88s | train loss  63.90 |\n",
      "| Epoch 1700 | training time   8.33s | train loss  62.64 |\n",
      "| Epoch 1800 | training time   8.80s | train loss  61.59 |\n",
      "| Epoch 1900 | training time   9.27s | train loss  60.93 |\n",
      "| Epoch 2000 | training time   9.72s | train loss  60.00 |\n",
      "| Epoch 2100 | training time  10.22s | train loss  59.11 |\n",
      "| Epoch 2200 | training time  10.77s | train loss  58.76 |\n",
      "| Epoch 2300 | training time  11.28s | train loss  58.01 |\n",
      "| Epoch 2400 | training time  11.78s | train loss  57.38 |\n",
      "| Epoch 2500 | training time  12.25s | train loss  56.86 |\n",
      "| Epoch 2600 | training time  12.72s | train loss  56.12 |\n",
      "| Epoch 2700 | training time  13.20s | train loss  55.99 |\n",
      "| Epoch 2800 | training time  13.66s | train loss  54.83 |\n",
      "| Epoch 2900 | training time  14.12s | train loss  54.64 |\n",
      "| Epoch 3000 | training time  14.58s | train loss  54.34 |\n"
     ]
    }
   ],
   "source": [
    "# SDK\n",
    "class PrintLoss(keras.callbacks.Callback):\n",
    "    def on_epoch_begin(self, epoch, logs):\n",
    "        if epoch == 0: self.time = time.monotonic()\n",
    "    def on_epoch_end(self, epoch, logs):\n",
    "        if epoch % 100 == 0:\n",
    "            t = time.monotonic() - self.time\n",
    "            print('| Epoch {:4} | training time {:6.2f}s | train loss {:6.2f} |'\n",
    "                  .format(epoch, t, logs['loss']))\n",
    "EPOCHS = 3001 #k\n",
    "\n",
    "history_1 = model_1.fit(train_data, train_targets,\n",
    "                    epochs=EPOCHS, verbose=0,\n",
    "                    callbacks=[PrintLoss()])\n",
    "\n",
    "#SGD is very sensitive (when chooseing different stepsize)"
   ]
  },
  {
   "cell_type": "markdown",
   "metadata": {
    "colab_type": "text",
    "id": "tQm3pc0FYPQB"
   },
   "source": [
    "Visualize the model's training progress using the stats stored in the `history` object."
   ]
  },
  {
   "cell_type": "code",
   "execution_count": 12,
   "metadata": {
    "colab": {},
    "colab_type": "code",
    "id": "4Xj91b-dymEy"
   },
   "outputs": [
    {
     "data": {
      "text/html": [
       "<div>\n",
       "<style scoped>\n",
       "    .dataframe tbody tr th:only-of-type {\n",
       "        vertical-align: middle;\n",
       "    }\n",
       "\n",
       "    .dataframe tbody tr th {\n",
       "        vertical-align: top;\n",
       "    }\n",
       "\n",
       "    .dataframe thead th {\n",
       "        text-align: right;\n",
       "    }\n",
       "</style>\n",
       "<table border=\"1\" class=\"dataframe\">\n",
       "  <thead>\n",
       "    <tr style=\"text-align: right;\">\n",
       "      <th></th>\n",
       "      <th>loss</th>\n",
       "      <th>mse</th>\n",
       "      <th>epoch</th>\n",
       "    </tr>\n",
       "  </thead>\n",
       "  <tbody>\n",
       "    <tr>\n",
       "      <th>2996</th>\n",
       "      <td>25.096163</td>\n",
       "      <td>25.096163</td>\n",
       "      <td>2996</td>\n",
       "    </tr>\n",
       "    <tr>\n",
       "      <th>2997</th>\n",
       "      <td>24.652615</td>\n",
       "      <td>24.652615</td>\n",
       "      <td>2997</td>\n",
       "    </tr>\n",
       "    <tr>\n",
       "      <th>2998</th>\n",
       "      <td>24.694767</td>\n",
       "      <td>24.694767</td>\n",
       "      <td>2998</td>\n",
       "    </tr>\n",
       "    <tr>\n",
       "      <th>2999</th>\n",
       "      <td>24.671721</td>\n",
       "      <td>24.671721</td>\n",
       "      <td>2999</td>\n",
       "    </tr>\n",
       "    <tr>\n",
       "      <th>3000</th>\n",
       "      <td>24.937281</td>\n",
       "      <td>24.937281</td>\n",
       "      <td>3000</td>\n",
       "    </tr>\n",
       "  </tbody>\n",
       "</table>\n",
       "</div>"
      ],
      "text/plain": [
       "           loss        mse  epoch\n",
       "2996  25.096163  25.096163   2996\n",
       "2997  24.652615  24.652615   2997\n",
       "2998  24.694767  24.694767   2998\n",
       "2999  24.671721  24.671721   2999\n",
       "3000  24.937281  24.937281   3000"
      ]
     },
     "metadata": {},
     "output_type": "display_data"
    },
    {
     "data": {
      "text/html": [
       "<div>\n",
       "<style scoped>\n",
       "    .dataframe tbody tr th:only-of-type {\n",
       "        vertical-align: middle;\n",
       "    }\n",
       "\n",
       "    .dataframe tbody tr th {\n",
       "        vertical-align: top;\n",
       "    }\n",
       "\n",
       "    .dataframe thead th {\n",
       "        text-align: right;\n",
       "    }\n",
       "</style>\n",
       "<table border=\"1\" class=\"dataframe\">\n",
       "  <thead>\n",
       "    <tr style=\"text-align: right;\">\n",
       "      <th></th>\n",
       "      <th>loss</th>\n",
       "      <th>mse</th>\n",
       "      <th>epoch</th>\n",
       "    </tr>\n",
       "  </thead>\n",
       "  <tbody>\n",
       "    <tr>\n",
       "      <th>2996</th>\n",
       "      <td>54.192585</td>\n",
       "      <td>54.192585</td>\n",
       "      <td>2996</td>\n",
       "    </tr>\n",
       "    <tr>\n",
       "      <th>2997</th>\n",
       "      <td>54.546272</td>\n",
       "      <td>54.546272</td>\n",
       "      <td>2997</td>\n",
       "    </tr>\n",
       "    <tr>\n",
       "      <th>2998</th>\n",
       "      <td>54.100693</td>\n",
       "      <td>54.100693</td>\n",
       "      <td>2998</td>\n",
       "    </tr>\n",
       "    <tr>\n",
       "      <th>2999</th>\n",
       "      <td>54.215240</td>\n",
       "      <td>54.215240</td>\n",
       "      <td>2999</td>\n",
       "    </tr>\n",
       "    <tr>\n",
       "      <th>3000</th>\n",
       "      <td>54.336792</td>\n",
       "      <td>54.336792</td>\n",
       "      <td>3000</td>\n",
       "    </tr>\n",
       "  </tbody>\n",
       "</table>\n",
       "</div>"
      ],
      "text/plain": [
       "           loss        mse  epoch\n",
       "2996  54.192585  54.192585   2996\n",
       "2997  54.546272  54.546272   2997\n",
       "2998  54.100693  54.100693   2998\n",
       "2999  54.215240  54.215240   2999\n",
       "3000  54.336792  54.336792   3000"
      ]
     },
     "metadata": {},
     "output_type": "display_data"
    }
   ],
   "source": [
    "#turn into dataframe\n",
    "hist = pd.DataFrame(history.history)\n",
    "#new add column\n",
    "hist['epoch'] = history.epoch\n",
    "display(hist.tail())\n",
    "\n",
    "#SDK\n",
    "hist_1 = pd.DataFrame(history_1.history)\n",
    "#new add column\n",
    "hist_1['epoch'] = history_1.epoch\n",
    "display(hist_1.tail())"
   ]
  },
  {
   "cell_type": "code",
   "execution_count": 14,
   "metadata": {
    "colab": {},
    "colab_type": "code",
    "id": "B6XriGbVPh2t"
   },
   "outputs": [
    {
     "data": {
      "image/png": "[encoded data removed]",
      "text/plain": [
       "<Figure size 432x288 with 1 Axes>"
      ]
     },
     "metadata": {
      "needs_background": "light"
     },
     "output_type": "display_data"
    }
   ],
   "source": [
    "def plot_history(history):\n",
    "    hist = pd.DataFrame(history.history)\n",
    "    hist['epoch'] = history.epoch\n",
    "    hist.tail()\n",
    "\n",
    "    plt.figure()\n",
    "    plt.xlabel('Epoch')\n",
    "    plt.ylabel('Mean Square Error [MPG]')\n",
    "    plt.plot(hist['epoch'], hist['mse'],\n",
    "             label='Train Error')\n",
    "\n",
    "    plt.show()\n",
    "#Adam\n",
    "plot_history(history)"
   ]
  },
  {
   "cell_type": "code",
   "execution_count": 15,
   "metadata": {},
   "outputs": [
    {
     "data": {
      "image/png": "[encoded data removed]",
      "text/plain": [
       "<Figure size 432x288 with 1 Axes>"
      ]
     },
     "metadata": {
      "needs_background": "light"
     },
     "output_type": "display_data"
    }
   ],
   "source": [
    "#SDK\n",
    "plot_history(history_1)"
   ]
  },
  {
   "cell_type": "markdown",
   "metadata": {
    "colab_type": "text",
    "id": "ft603OzXuEZC"
   },
   "source": [
    "### Make predictions"
   ]
  },
  {
   "cell_type": "markdown",
   "metadata": {},
   "source": [
    "Calculate testing test mean squared error"
   ]
  },
  {
   "cell_type": "code",
   "execution_count": 22,
   "metadata": {},
   "outputs": [
    {
     "name": "stdout",
     "output_type": "stream",
     "text": [
      "Adam: Testing set Mean Squared Error: 24.41\n",
      "SDK: Testing set Mean Squared Error: 63.09\n"
     ]
    }
   ],
   "source": [
    "_, mse = model.evaluate(test_data, test_targets, verbose=0)\n",
    "\n",
    "print(\"Adam: Testing set Mean Squared Error: {:5.2f}\".format(mse))\n",
    "\n",
    "#evaluate 印出的值是loss, accuracy(metric)\n",
    "#\"_\"代表最後一次執行的結果，或暫時性/不重要的變數\n",
    "#verbose = 0 代表不要輸出任何紀錄訊息\n",
    "#verbose = 1 表不輸出進度條紀錄，是default，\n",
    "#會出現4/4 [==============================] - 0s 972us/step - loss: 24.4064 - mse: 24.4064\n",
    "\n",
    "_, mse_1 = model_1.evaluate(test_data, test_targets, verbose=0)\n",
    "\n",
    "print(\"SDK: Testing set Mean Squared Error: {:5.2f}\".format(mse_1))\n"
   ]
  },
  {
   "cell_type": "markdown",
   "metadata": {},
   "source": [
    "Finally, predict housing price using data in the testing set:"
   ]
  },
  {
   "cell_type": "code",
   "execution_count": 24,
   "metadata": {
    "colab": {},
    "colab_type": "code",
    "id": "Xe7RXH3N3CWU"
   },
   "outputs": [
    {
     "data": {
      "image/png": "[encoded data removed]",
      "text/plain": [
       "<Figure size 432x288 with 1 Axes>"
      ]
     },
     "metadata": {
      "needs_background": "light"
     },
     "output_type": "display_data"
    }
   ],
   "source": [
    "test_predictions = model.predict(test_data).flatten()\n",
    "\n",
    "plt.scatter(test_targets, test_predictions)\n",
    "plt.xlabel('True Values [price]')\n",
    "plt.ylabel('Predictions [price]')\n",
    "plt.axis('equal')\n",
    "plt.axis('square')\n",
    "plt.xlim([0,plt.xlim()[1]])\n",
    "plt.ylim([0,plt.ylim()[1]])\n",
    "_ = plt.plot([-100, 100], [-100, 100]) #diagonal line"
   ]
  },
  {
   "cell_type": "code",
   "execution_count": 23,
   "metadata": {},
   "outputs": [
    {
     "data": {
      "image/png": "[encoded data removed]",
      "text/plain": [
       "<Figure size 432x288 with 1 Axes>"
      ]
     },
     "metadata": {
      "needs_background": "light"
     },
     "output_type": "display_data"
    }
   ],
   "source": [
    "test_predictions_1 = model_1.predict(test_data).flatten()\n",
    "\n",
    "plt.scatter(test_targets, test_predictions_1)\n",
    "plt.xlabel('True Values [price]')\n",
    "plt.ylabel('Predictions [price]')\n",
    "plt.axis('equal')\n",
    "plt.axis('square')\n",
    "plt.xlim([0,plt.xlim()[1]])\n",
    "plt.ylim([0,plt.ylim()[1]])\n",
    "_ = plt.plot([-100, 100], [-100, 100]) #diagonal line"
   ]
  }
 ],
 "metadata": {
  "colab": {
   "collapsed_sections": [],
   "name": "regression.ipynb",
   "private_outputs": true,
   "provenance": [],
   "toc_visible": true
  },
  "kernelspec": {
   "display_name": "Python 3",
   "language": "python",
   "name": "python3"
  },
  "language_info": {
   "codemirror_mode": {
    "name": "ipython",
    "version": 3
   },
   "file_extension": ".py",
   "mimetype": "text/x-python",
   "name": "python",
   "nbconvert_exporter": "python",
   "pygments_lexer": "ipython3",
   "version": "3.8.8"
  }
 },
 "nbformat": 4,
 "nbformat_minor": 4
}
